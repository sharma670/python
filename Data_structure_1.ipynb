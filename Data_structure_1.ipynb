{
  "nbformat": 4,
  "nbformat_minor": 0,
  "metadata": {
    "colab": {
      "provenance": []
    },
    "kernelspec": {
      "name": "python3",
      "display_name": "Python 3"
    },
    "language_info": {
      "name": "python"
    }
  },
  "cells": [
    {
      "cell_type": "markdown",
      "source": [
        "1. What are data structures, and why are they important?\n",
        "\n",
        "\n",
        "   -Data structures are ways of organizing and storing data so that they can be accessed and worked with efficiently. Examples include lists, dictionaries, tuples, and sets.\n",
        "\n",
        "   -Importance:\n",
        "\n",
        "  -Efficient data access and manipulation\n",
        "\n",
        "  -Optimize algorithms\n",
        "\n",
        "  -Better memory management\n",
        "\n",
        " -Easier data modeling (e.g., graphs, trees)"
      ],
      "metadata": {
        "id": "I50XSiSMRp6X"
      }
    },
    {
      "cell_type": "markdown",
      "source": [
        "2.   Explain the difference between mutable and immutable data types with examples.\n",
        "\n",
        "\n",
        "    -Mutable: Can be changed after creation.\n",
        "\n",
        "Example: list, dict, set\n",
        "\n"
      ],
      "metadata": {
        "id": "iK4InjyATKA0"
      }
    },
    {
      "cell_type": "code",
      "source": [
        "lst = [1, 2, 3]\n",
        "lst[0]\n"
      ],
      "metadata": {
        "colab": {
          "base_uri": "https://localhost:8080/"
        },
        "id": "0d4B2kijTuTb",
        "outputId": "55a817f6-5724-442f-932e-4cc58e188b4c"
      },
      "execution_count": null,
      "outputs": [
        {
          "output_type": "execute_result",
          "data": {
            "text/plain": [
              "1"
            ]
          },
          "metadata": {},
          "execution_count": 1
        }
      ]
    },
    {
      "cell_type": "markdown",
      "source": [
        "  -Immutable: Cannot be changed after creation.\n",
        "\n",
        "   -Example: int, str, tuple"
      ],
      "metadata": {
        "id": "-0yrgv3BT5qL"
      }
    },
    {
      "cell_type": "code",
      "source": [
        "tup = (1, 2, 3)\n",
        "tup[0]\n"
      ],
      "metadata": {
        "colab": {
          "base_uri": "https://localhost:8080/"
        },
        "id": "tWKV4dTEUF8f",
        "outputId": "cae612f4-e349-4725-de6b-bdc486da9cb5"
      },
      "execution_count": null,
      "outputs": [
        {
          "output_type": "execute_result",
          "data": {
            "text/plain": [
              "1"
            ]
          },
          "metadata": {},
          "execution_count": 2
        }
      ]
    },
    {
      "cell_type": "markdown",
      "source": [
        "3.   What are the main differences between lists and tuples in Python?\n",
        "\n",
        "\n",
        "| Feature     | List (`[]`)         | Tuple (`()`)           |\n",
        "| ----------- | ------------------- | ---------------------- |\n",
        "| Mutability  | Mutable             | Immutable              |\n",
        "| Performance | Slower              | Faster (less overhead) |\n",
        "| Use Case    | Dynamic data        | Fixed data             |\n",
        "| Methods     | Many (e.g., append) | Few (e.g., count)      |\n"
      ],
      "metadata": {
        "id": "pdbR8z-9UTpQ"
      }
    },
    {
      "cell_type": "markdown",
      "source": [
        "4.   Describe how dictionaries store data?\n",
        "\n",
        "\n",
        "  -Dictionaries store data as key-value pairs using a structure called a hash table. Keys are hashed to compute an index in an internal array, allowing fast lookups.\n",
        "\n"
      ],
      "metadata": {
        "id": "BPJ6jgcMUtc6"
      }
    },
    {
      "cell_type": "code",
      "source": [
        "d = {\"name\": \"Alice\", \"age\": 30}\n",
        "d"
      ],
      "metadata": {
        "colab": {
          "base_uri": "https://localhost:8080/"
        },
        "id": "CWeSlKD0VgAW",
        "outputId": "daa64c22-4d30-4db9-a1fd-9e4c850b3ce5"
      },
      "execution_count": null,
      "outputs": [
        {
          "output_type": "execute_result",
          "data": {
            "text/plain": [
              "{'name': 'Alice', 'age': 30}"
            ]
          },
          "metadata": {},
          "execution_count": 3
        }
      ]
    },
    {
      "cell_type": "markdown",
      "source": [
        "5.   Why might you use a set instead of a list in Python?\n",
        "\n",
        "   -To Ensure Uniqueness.\n",
        "   -Faster Membership Testing.\n",
        "   -Built-in Set Operations"
      ],
      "metadata": {
        "id": "IwqTiWNrVnZu"
      }
    },
    {
      "cell_type": "code",
      "source": [
        "a = {1, 2, 3}\n",
        "b = {3, 4, 5}\n",
        "\n",
        "a & b  # intersection: {3}\n",
        "a | b  # union: {1, 2, 3, 4, 5}\n",
        "a - b  # difference: {1, 2}\n"
      ],
      "metadata": {
        "colab": {
          "base_uri": "https://localhost:8080/"
        },
        "id": "38iRp1WMWt_d",
        "outputId": "ac504177-9917-4da2-dcaf-8f07e6012571"
      },
      "execution_count": null,
      "outputs": [
        {
          "output_type": "execute_result",
          "data": {
            "text/plain": [
              "{1, 2}"
            ]
          },
          "metadata": {},
          "execution_count": 4
        }
      ]
    },
    {
      "cell_type": "markdown",
      "source": [
        "6.   What is a string in Python, and how is it different from a list?\n",
        "\n",
        "\n",
        "   -A string is an immutable sequence of characters.\n",
        "\n",
        "  -Differences from lists:\n",
        "\n",
        "  -Strings can’t be modified\n",
        "\n",
        "  -Strings are specifically character sequences\n",
        "\n",
        "  -Lists can contain any data type"
      ],
      "metadata": {
        "id": "LRDjHYJeW3aZ"
      }
    },
    {
      "cell_type": "markdown",
      "source": [],
      "metadata": {
        "id": "xTeHjeChTBDp"
      }
    },
    {
      "cell_type": "markdown",
      "source": [
        "7.   How do tuples ensure data integrity in Python?\n",
        "\n",
        "\n",
        "   - Tuples are immutable, which means their contents cannot be changed. This ensures the data remains constant and can’t be accidentally altered—ideal for configuration or fixed records.\n",
        "\n"
      ],
      "metadata": {
        "id": "exC6hkzMXZzR"
      }
    },
    {
      "cell_type": "markdown",
      "source": [
        "8.   . What is a hash table, and how does it relate to dictionaries in Python?\n",
        "\n",
        "\n",
        "   - A hash table is a data structure that maps keys to values using a hash function. Python dictionaries are implemented as hash tables, enabling fast key-based access.\n",
        "\n"
      ],
      "metadata": {
        "id": "QgonpMt9XugT"
      }
    },
    {
      "cell_type": "markdown",
      "source": [],
      "metadata": {
        "id": "KoPVXQKJYBj1"
      }
    },
    {
      "cell_type": "markdown",
      "source": [
        "9.   . Can lists contain different data types in Python?\n",
        "\n",
        "\n",
        "\n",
        "- Yes. Python lists are heterogeneous:"
      ],
      "metadata": {
        "id": "viL6WFdLYFqe"
      }
    },
    {
      "cell_type": "code",
      "source": [
        "my_list = [1, \"hello\", 3.14, [5, 6]]\n",
        "my_list"
      ],
      "metadata": {
        "colab": {
          "base_uri": "https://localhost:8080/"
        },
        "id": "UCP7MKZGYZIy",
        "outputId": "af75ee37-d5eb-47fd-c125-4694f78b7286"
      },
      "execution_count": null,
      "outputs": [
        {
          "output_type": "execute_result",
          "data": {
            "text/plain": [
              "[1, 'hello', 3.14, [5, 6]]"
            ]
          },
          "metadata": {},
          "execution_count": 5
        }
      ]
    },
    {
      "cell_type": "markdown",
      "source": [
        "10.   Explain why strings are immutable in Python?\n",
        "\n",
        "\n",
        "   - rings are immutable to:\n",
        "\n",
        "- Improve performance (interning and memory reuse)\n",
        "\n",
        "- Enhance security (e.g., hashable keys)\n",
        "\n",
        "- Make behavior predictable when passed to functions\n",
        "\n"
      ],
      "metadata": {
        "id": "dPGYOlgqYoJB"
      }
    },
    {
      "cell_type": "markdown",
      "source": [
        "11.   What advantages do dictionaries offer over lists for certain tasks?\n",
        "\n",
        "\n",
        "  - Dictionaries offer several key advantages over lists for specific tasks in Python, especially when dealing with key-value relationships and fast data access.\n",
        "\n",
        "- 1. Fast Lookups by Key\n",
        "Dictionaries provide O(1) average time complexity for retrieving values by key.\n",
        "\n",
        "Lists require O(n) time to search for an element by value or index."
      ],
      "metadata": {
        "id": "KOaG3OevZFIW"
      }
    },
    {
      "cell_type": "code",
      "source": [
        "# Dictionary: fast lookup\n",
        "person = {'name': 'Alice', 'age': 30}\n",
        "print(person['age'])\n",
        "\n",
        "\n",
        "person_list = ['Alice', 30]\n",
        "print(person_list[1])\n"
      ],
      "metadata": {
        "colab": {
          "base_uri": "https://localhost:8080/"
        },
        "id": "uZpAO1oJZ7AG",
        "outputId": "5ed14048-5525-49fe-86f2-814482146ff7"
      },
      "execution_count": null,
      "outputs": [
        {
          "output_type": "stream",
          "name": "stdout",
          "text": [
            "30\n",
            "30\n"
          ]
        }
      ]
    },
    {
      "cell_type": "markdown",
      "source": [
        "2. Better Organization with Key-Value Pairs\n",
        "\n",
        "- Dictionaries clearly express relationships between data, improving readability and maintainability."
      ],
      "metadata": {
        "id": "ncmkrr-yaPfv"
      }
    },
    {
      "cell_type": "markdown",
      "source": [
        "12.   Describe a scenario where using a tuple would be preferable over a list.\n",
        "\n",
        "\n",
        "- A tuple is preferable over a list in scenarios where:\n",
        "\n",
        " 1. You Need an Immutable Collection\n",
        "Tuples cannot be modified (they are immutable), which makes them ideal when the data should not change throughout the program."
      ],
      "metadata": {
        "id": "vY-aXAuUbdOv"
      }
    },
    {
      "cell_type": "code",
      "source": [
        "coordinates = (40.7128, -74.0060)  # Latitude and Longitude\n"
      ],
      "metadata": {
        "id": "TKnq-sBHcbxC"
      },
      "execution_count": null,
      "outputs": []
    },
    {
      "cell_type": "markdown",
      "source": [
        "2. You Want to Use the Data as a Dictionary Key or Set Element\n",
        "Only immutable types (like tuples) can be used as keys in dictionaries or elements in sets."
      ],
      "metadata": {
        "id": "G-0DwulJcoZA"
      }
    },
    {
      "cell_type": "code",
      "source": [
        "location_weather = {\n",
        "    (40.7128, -74.0060): \"Sunny\",\n",
        "    (34.0522, -118.2437): \"Cloudy\"\n",
        "}\n",
        "location_weather"
      ],
      "metadata": {
        "colab": {
          "base_uri": "https://localhost:8080/"
        },
        "id": "BJOAI8k6cr8v",
        "outputId": "352c94fe-f0a1-4ab9-bf15-90c272f63333"
      },
      "execution_count": null,
      "outputs": [
        {
          "output_type": "execute_result",
          "data": {
            "text/plain": [
              "{(40.7128, -74.006): 'Sunny', (34.0522, -118.2437): 'Cloudy'}"
            ]
          },
          "metadata": {},
          "execution_count": 15
        }
      ]
    },
    {
      "cell_type": "markdown",
      "source": [
        "13.   How do sets handle duplicate values in Python?\n",
        "\n",
        "\n",
        "  - In Python, sets automatically eliminate duplicate values. When you add duplicate elements to a set, only one instance of each unique value is kept.\n",
        "\n"
      ],
      "metadata": {
        "id": "IdSy80lgc4Ol"
      }
    },
    {
      "cell_type": "code",
      "source": [
        "my_set = {1, 2, 2, 3, 3, 3}\n",
        "print(my_set)\n"
      ],
      "metadata": {
        "colab": {
          "base_uri": "https://localhost:8080/"
        },
        "id": "ti9NuSngddX3",
        "outputId": "5690e94f-f17c-46a0-e8e4-1712c4fd8f29"
      },
      "execution_count": null,
      "outputs": [
        {
          "output_type": "stream",
          "name": "stdout",
          "text": [
            "{1, 2, 3}\n"
          ]
        }
      ]
    },
    {
      "cell_type": "markdown",
      "source": [
        "14.   How does the “in” keyword work differently for lists and dictionaries.\n",
        "\n",
        "\n",
        " - List: Checks if a value exists (O(n) time)\n",
        "\n",
        "- Dict: Checks if a key exists (O(1) time on average)"
      ],
      "metadata": {
        "id": "-SOhpG3XdkRN"
      }
    },
    {
      "cell_type": "code",
      "source": [
        "3 in [1, 2, 3]         # True\n",
        "\"age\" in {\"age\": 25}   # True\n",
        "25 in {\"age\": 25}      # False\n"
      ],
      "metadata": {
        "colab": {
          "base_uri": "https://localhost:8080/"
        },
        "id": "Dk09VRjmeVw9",
        "outputId": "89b65fd6-ac1e-4fcd-c6b3-a2d1d44df60b"
      },
      "execution_count": null,
      "outputs": [
        {
          "output_type": "execute_result",
          "data": {
            "text/plain": [
              "False"
            ]
          },
          "metadata": {},
          "execution_count": 17
        }
      ]
    },
    {
      "cell_type": "markdown",
      "source": [
        "15.   Can you modify the elements of a tuple? Explain why or why not.\n",
        "\n",
        "\n",
        "- No, because tuples are immutable. Once created, their contents cannot be altered."
      ],
      "metadata": {
        "id": "xuqG7HhoegBj"
      }
    },
    {
      "cell_type": "code",
      "source": [
        "t = (1, 2)\n",
        "# t[0] = 10  # Error\n"
      ],
      "metadata": {
        "id": "2wgDYGCLfBlp"
      },
      "execution_count": null,
      "outputs": []
    },
    {
      "cell_type": "markdown",
      "source": [
        "16.   What is a nested dictionary? Give an example of its use case.\n",
        "\n",
        "\n",
        "- A nested dictionary is a dictionary inside another dictionary.\n",
        "\n",
        "Example:"
      ],
      "metadata": {
        "id": "82YVkqdXfGee"
      }
    },
    {
      "cell_type": "code",
      "source": [
        "users = {\n",
        "    \"vikrant\": {\"age\": 25, \"email\": \"vikrant@example.com\"},\n",
        "    \"pwskills\": {\"age\": 30, \"email\": \"pwskills@example.com\"}\n",
        "}\n",
        "users"
      ],
      "metadata": {
        "colab": {
          "base_uri": "https://localhost:8080/"
        },
        "id": "U8MYtLh3fawP",
        "outputId": "240f3376-ee9d-4434-d5a9-31c8b550b6bc"
      },
      "execution_count": null,
      "outputs": [
        {
          "output_type": "execute_result",
          "data": {
            "text/plain": [
              "{'vikrant': {'age': 25, 'email': 'vikrant@example.com'},\n",
              " 'pwskills': {'age': 30, 'email': 'pwskills@example.com'}}"
            ]
          },
          "metadata": {},
          "execution_count": 20
        }
      ]
    },
    {
      "cell_type": "markdown",
      "source": [
        "17.   Describe the time complexity of accessing elements in a dictionary.\n",
        "\n",
        "- Average Case Time Complexity: O(1) (Constant Time)\n",
        "Dictionaries use hash tables internally.\n",
        "\n",
        "- The key is hashed, and its value is retrieved directly from the corresponding location.\n",
        "\n",
        "- This makes lookup operations very fast, regardless of dictionary size (on average)."
      ],
      "metadata": {
        "id": "07H8mYlHf1T2"
      }
    },
    {
      "cell_type": "markdown",
      "source": [
        "18.   In what situations are lists preferred over dictionaries.\n",
        "\n",
        "\n",
        " - While dictionaries are powerful for key-value mappings, lists are better suited in several common scenarios, especially when order and sequences matter.\n",
        "\n",
        "-  You Need Ordered Data with Duplicates\n",
        "Lists maintain insertion order and allow duplicate values.\n"
      ],
      "metadata": {
        "id": "k2M8lvR0gt_G"
      }
    },
    {
      "cell_type": "code",
      "source": [
        "names = [\"Vikrant\", \"Pw skills\", \"Vikrant\"]\n",
        "names  # Duplicates are allowed\n"
      ],
      "metadata": {
        "colab": {
          "base_uri": "https://localhost:8080/"
        },
        "id": "QeZ73mqUhyk_",
        "outputId": "c67ab6fc-d443-4b77-d9cf-4fd1f19f8e90"
      },
      "execution_count": null,
      "outputs": [
        {
          "output_type": "execute_result",
          "data": {
            "text/plain": [
              "['Vikrant', 'Pw skills', 'Vikrant']"
            ]
          },
          "metadata": {},
          "execution_count": 21
        }
      ]
    },
    {
      "cell_type": "markdown",
      "source": [
        "19.    Why are dictionaries considered unordered, and how does that affect data retrieval?\n",
        "\n",
        "\n",
        "- Historically in Python , dictionaries were considered unordered because:\n",
        "\n",
        "- They were implemented using hash tables without any guarantee of the order in which items were inserted.\n",
        "\n",
        "- The internal ordering of key-value pairs was determined by hash values and could appear random to the user.\n",
        "\n",
        "So, even if you inserted keys in a specific order, you couldn't rely on retrieving them in that same order."
      ],
      "metadata": {
        "id": "8dzV2hg0iCJc"
      }
    },
    {
      "cell_type": "markdown",
      "source": [
        "20.   Explain the difference between a list and a dictionary in terms of data retrieval.\n",
        "\n",
        "- | Structur| Access Type| Example|\n",
        "\n",
        "| List       | Index-based | `my_list[0]|\n",
        "\n",
        "| Dictionary | Key-based   | `my_dict[\"name\"]`|\n"
      ],
      "metadata": {
        "id": "bAxXMnXyirFl"
      }
    },
    {
      "cell_type": "markdown",
      "source": [
        "Lists: Retrieve values using integer indexes (position).\n",
        "\n",
        "Dictionaries: Retrieve values using unique keys (usually strings or other hashable types).\n",
        "\n"
      ],
      "metadata": {
        "id": "cUDwNAlLjj83"
      }
    },
    {
      "cell_type": "code",
      "source": [
        "# List\n",
        "student = [\"Vikrant\", 27]\n",
        "\n",
        "# Dictionary\n",
        "student = {\"name\": \"Vikrant\", \"age\": 27}\n",
        "student"
      ],
      "metadata": {
        "colab": {
          "base_uri": "https://localhost:8080/"
        },
        "id": "iAkIUtF1jtJg",
        "outputId": "36a8ff21-435c-49e5-92f7-6de0457baa42"
      },
      "execution_count": null,
      "outputs": [
        {
          "output_type": "execute_result",
          "data": {
            "text/plain": [
              "{'name': 'Vikrant', 'age': 27}"
            ]
          },
          "metadata": {},
          "execution_count": 23
        }
      ]
    },
    {
      "cell_type": "markdown",
      "source": [
        "### Practical Questions"
      ],
      "metadata": {
        "id": "p66c-HmIw5Ck"
      }
    },
    {
      "cell_type": "markdown",
      "source": [],
      "metadata": {
        "id": "8wdKnJqzxdAN"
      }
    },
    {
      "cell_type": "markdown",
      "source": [],
      "metadata": {
        "id": "5LX6GBh5xim0"
      }
    },
    {
      "cell_type": "markdown",
      "source": [
        "1.  Write a code to create a string with your name and print it."
      ],
      "metadata": {
        "id": "sFWI-0p1xjPc"
      }
    },
    {
      "cell_type": "code",
      "source": [
        "name = \"Vikrant\"\n",
        "print(\"My name is:\" ,name)"
      ],
      "metadata": {
        "colab": {
          "base_uri": "https://localhost:8080/"
        },
        "id": "xWJ5MXpuxx4v",
        "outputId": "2000d4f9-d0f5-4d29-e692-832d34db695d"
      },
      "execution_count": null,
      "outputs": [
        {
          "output_type": "stream",
          "name": "stdout",
          "text": [
            "My name is: Vikrant\n"
          ]
        }
      ]
    },
    {
      "cell_type": "markdown",
      "source": [
        "2. Write a code to find the length of the string \"Hello World\"."
      ],
      "metadata": {
        "id": "vnzLUaXFyi_3"
      }
    },
    {
      "cell_type": "code",
      "source": [
        "text = \"Hello World\"\n",
        "\n",
        "length = len(text)\n",
        "\n",
        "print(\"The length of the string is:\",length)"
      ],
      "metadata": {
        "colab": {
          "base_uri": "https://localhost:8080/"
        },
        "id": "Xwu0nKb4yu9F",
        "outputId": "6478f782-af04-4f3a-9fe1-fa6329a15d23"
      },
      "execution_count": null,
      "outputs": [
        {
          "output_type": "stream",
          "name": "stdout",
          "text": [
            "The length of the string is: 11\n"
          ]
        }
      ]
    },
    {
      "cell_type": "markdown",
      "source": [
        "3.  Write a code to slice the first 3 characters from the string \"Python Programming\"."
      ],
      "metadata": {
        "id": "4rZ1q8NkzsVj"
      }
    },
    {
      "cell_type": "code",
      "source": [
        "text = \"python progremming\"\n",
        "\n",
        "sliced_text = text[:3]\n",
        "\n",
        "print(\"First three characters:\",sliced_text)"
      ],
      "metadata": {
        "colab": {
          "base_uri": "https://localhost:8080/"
        },
        "id": "O6H9QnUMz4QP",
        "outputId": "07b857cd-fc61-4b3b-85fc-22ea22e1a653"
      },
      "execution_count": null,
      "outputs": [
        {
          "output_type": "stream",
          "name": "stdout",
          "text": [
            "First three characters: pyt\n"
          ]
        }
      ]
    },
    {
      "cell_type": "markdown",
      "source": [
        "4.  Write a code to convert the string \"hello\" to uppercase."
      ],
      "metadata": {
        "id": "ApWN8SKP0z36"
      }
    },
    {
      "cell_type": "code",
      "source": [
        "text = \"hello\"\n",
        "\n",
        "uppercase_text = text.upper()\n",
        "\n",
        "print(\"uppercase:\",uppercase_text)"
      ],
      "metadata": {
        "colab": {
          "base_uri": "https://localhost:8080/"
        },
        "id": "CC_y_IrS1CKf",
        "outputId": "70952026-b7ab-46b4-d78d-1527b0e3a1d0"
      },
      "execution_count": null,
      "outputs": [
        {
          "output_type": "stream",
          "name": "stdout",
          "text": [
            "uppercase: HELLO\n"
          ]
        }
      ]
    },
    {
      "cell_type": "markdown",
      "source": [],
      "metadata": {
        "id": "Ygc8lDa90_g6"
      }
    },
    {
      "cell_type": "markdown",
      "source": [
        "5. Write a code to replace the word \"apple\" with \"orange\" in the string \"I like apple\"."
      ],
      "metadata": {
        "id": "fotpQSkZ19QS"
      }
    },
    {
      "cell_type": "code",
      "source": [
        "text = \"I like apple\"\n",
        "\n",
        "new_text = text.replace(\"apple\",\"orange\")\n",
        "\n",
        "print(\"update string:\",new_text)"
      ],
      "metadata": {
        "colab": {
          "base_uri": "https://localhost:8080/"
        },
        "id": "bpA-UW6N2G6_",
        "outputId": "db055a8a-25ce-4c90-f281-f61f1f3df437"
      },
      "execution_count": null,
      "outputs": [
        {
          "output_type": "stream",
          "name": "stdout",
          "text": [
            "update string: I like orange\n"
          ]
        }
      ]
    },
    {
      "cell_type": "markdown",
      "source": [
        "6.  Write a code to create a list with numbers 1 to 5 and print it."
      ],
      "metadata": {
        "id": "w2I9Oupw2_kn"
      }
    },
    {
      "cell_type": "code",
      "source": [
        "numbers = [1,2,3,4,5]\n",
        "\n",
        "print(\"list of numbers:\",numbers)"
      ],
      "metadata": {
        "colab": {
          "base_uri": "https://localhost:8080/"
        },
        "id": "Os03GvFD3Kg5",
        "outputId": "c1e97917-ca09-4274-cd3f-9530f46bc50d"
      },
      "execution_count": null,
      "outputs": [
        {
          "output_type": "stream",
          "name": "stdout",
          "text": [
            "list of numbers: [1, 2, 3, 4, 5]\n"
          ]
        }
      ]
    },
    {
      "cell_type": "markdown",
      "source": [
        "7.  Write a code to append the number 10 to the list [1, 2, 3, 4]."
      ],
      "metadata": {
        "id": "jaYWs1-P3vww"
      }
    },
    {
      "cell_type": "code",
      "source": [
        "numbers = [1,2,3,4]\n",
        "\n",
        "numbers.append(10)\n",
        "\n",
        "print(\"update numbers:\",numbers)"
      ],
      "metadata": {
        "colab": {
          "base_uri": "https://localhost:8080/"
        },
        "id": "GSznzRM239pI",
        "outputId": "8e29cebb-7377-4b15-92eb-221479d1f2f4"
      },
      "execution_count": null,
      "outputs": [
        {
          "output_type": "stream",
          "name": "stdout",
          "text": [
            "update numbers: [1, 2, 3, 4, 10]\n"
          ]
        }
      ]
    },
    {
      "cell_type": "markdown",
      "source": [
        "8.  Write a code to remove the number 3 from the list [1, 2, 3, 4, 5]."
      ],
      "metadata": {
        "id": "7vn84avt4gH_"
      }
    },
    {
      "cell_type": "code",
      "source": [
        "numbers = [1,2,3,4,5]\n",
        "\n",
        "numbers.remove(3)\n",
        "\n",
        "print(\"update numbers:\" , numbers)"
      ],
      "metadata": {
        "colab": {
          "base_uri": "https://localhost:8080/"
        },
        "id": "9wPuy1je4oUN",
        "outputId": "03e3e966-48f7-4e9b-c30a-cb351e297451"
      },
      "execution_count": null,
      "outputs": [
        {
          "output_type": "stream",
          "name": "stdout",
          "text": [
            "update numbers: [1, 2, 4, 5]\n"
          ]
        }
      ]
    },
    {
      "cell_type": "markdown",
      "source": [
        "9.  Write a code to access the second element in the list ['a', 'b', 'c', 'd']."
      ],
      "metadata": {
        "id": "et_ktDM05dJl"
      }
    },
    {
      "cell_type": "code",
      "source": [
        "letters = ['a','b','c','d']\n",
        "\n",
        "second_element = letters[1]\n",
        "\n",
        "print(\"second_elements:\" , second_element)"
      ],
      "metadata": {
        "colab": {
          "base_uri": "https://localhost:8080/"
        },
        "id": "phNH6eEB5nt1",
        "outputId": "e55188b2-d58a-4c52-ef12-7604003a1a9e"
      },
      "execution_count": null,
      "outputs": [
        {
          "output_type": "stream",
          "name": "stdout",
          "text": [
            "second_elements: b\n"
          ]
        }
      ]
    },
    {
      "cell_type": "markdown",
      "source": [
        "10.  Write a code to reverse the list [10, 20, 30, 40, 50]."
      ],
      "metadata": {
        "id": "GPwhMfWI63lu"
      }
    },
    {
      "cell_type": "code",
      "source": [
        "numbers = [10,20,30,40,50,]\n",
        "\n",
        "numbers.reverse()\n",
        "\n",
        "print(\"Reserved list:\", numbers)"
      ],
      "metadata": {
        "colab": {
          "base_uri": "https://localhost:8080/"
        },
        "id": "7gvwTu8b7AAs",
        "outputId": "ba37ae13-6fce-4df1-91e9-191debd0f271"
      },
      "execution_count": null,
      "outputs": [
        {
          "output_type": "stream",
          "name": "stdout",
          "text": [
            "Reserved list: [50, 40, 30, 20, 10]\n"
          ]
        }
      ]
    },
    {
      "cell_type": "markdown",
      "source": [
        "11.  Write a code to create a tuple with the elements 100, 200, 300 and print it."
      ],
      "metadata": {
        "id": "wBxKcjFqQT9o"
      }
    },
    {
      "cell_type": "code",
      "source": [
        "my_tuple = (100, 200 , 300)\n",
        "\n",
        "print(\"My touple is:\",my_tuple)"
      ],
      "metadata": {
        "colab": {
          "base_uri": "https://localhost:8080/"
        },
        "id": "rc0IA5DWQWyn",
        "outputId": "f66f8f23-4458-422e-e625-42626a127fac"
      },
      "execution_count": 1,
      "outputs": [
        {
          "output_type": "stream",
          "name": "stdout",
          "text": [
            "My touple is: (100, 200, 300)\n"
          ]
        }
      ]
    },
    {
      "cell_type": "markdown",
      "source": [
        "12.   Write a code to access the second-to-last element of the tuple ('red', 'green', 'blue', 'yellow')."
      ],
      "metadata": {
        "id": "_LRsDfi0Q1rj"
      }
    },
    {
      "cell_type": "code",
      "source": [
        "colors = ('red' , 'green','blue', 'yellow')\n",
        "\n",
        "second_last = colors[-2]\n",
        "\n",
        "print(\"The second-to-last element is:\",second_last)"
      ],
      "metadata": {
        "colab": {
          "base_uri": "https://localhost:8080/"
        },
        "id": "gS4BkWLyQ7wc",
        "outputId": "0491474c-c73b-4650-9de8-7f6ab7a22959"
      },
      "execution_count": 3,
      "outputs": [
        {
          "output_type": "stream",
          "name": "stdout",
          "text": [
            "The second-to-last element is: blue\n"
          ]
        }
      ]
    },
    {
      "cell_type": "markdown",
      "source": [
        "13.   Write a code to find the minimum number in the tuple (10, 20, 5, 15)."
      ],
      "metadata": {
        "id": "hGoIiUWUR4fu"
      }
    },
    {
      "cell_type": "code",
      "source": [
        "numbers = (10,20,5,15)\n",
        "\n",
        "min_number = min(numbers)\n",
        "\n",
        "print(\"The minimum number in tuple is:\",min_number)"
      ],
      "metadata": {
        "colab": {
          "base_uri": "https://localhost:8080/"
        },
        "id": "7_f8NMFRSGms",
        "outputId": "b01979e1-8692-45e9-863e-50afcbdf2204"
      },
      "execution_count": 4,
      "outputs": [
        {
          "output_type": "stream",
          "name": "stdout",
          "text": [
            "The minimum number in tuple is: 5\n"
          ]
        }
      ]
    },
    {
      "cell_type": "markdown",
      "source": [
        "14.  . Write a code to find the index of the element \"cat\" in the tuple ('dog', 'cat', 'rabbit')."
      ],
      "metadata": {
        "id": "ja7QPAbtS6ZC"
      }
    },
    {
      "cell_type": "code",
      "source": [
        "animals = ('dog','cat','rabbit')\n",
        "\n",
        "cat_index = animals.index('cat')\n",
        "\n",
        "print(\"The index of 'cat' is:\",cat_index)"
      ],
      "metadata": {
        "colab": {
          "base_uri": "https://localhost:8080/"
        },
        "id": "BhV6h1FoTBO6",
        "outputId": "29a827ce-e7b9-4d99-db45-249cebb7f93c"
      },
      "execution_count": 6,
      "outputs": [
        {
          "output_type": "stream",
          "name": "stdout",
          "text": [
            "The index of 'cat' is: 1\n"
          ]
        }
      ]
    },
    {
      "cell_type": "markdown",
      "source": [
        "15.  Write a code to create a tuple containing three different fruits and check if \"kiwi\" is in it."
      ],
      "metadata": {
        "id": "ojwDTIX2UBek"
      }
    },
    {
      "cell_type": "code",
      "source": [
        "fruits = ('apple','banana','cherry')\n",
        "\n",
        "if 'kiwi' in fruits:\n",
        "  print(\"kiwi is in the tuple.\")\n",
        "else:\n",
        "  print(\"kiwi is not in the tuple.\")"
      ],
      "metadata": {
        "colab": {
          "base_uri": "https://localhost:8080/"
        },
        "id": "Mb6gpoVFUJGu",
        "outputId": "5b5fbd98-b14d-442e-f982-94153d6b8709"
      },
      "execution_count": 7,
      "outputs": [
        {
          "output_type": "stream",
          "name": "stdout",
          "text": [
            "kiwi is not in the tuple.\n"
          ]
        }
      ]
    },
    {
      "cell_type": "markdown",
      "source": [
        "16.   Write a code to create a set with the elements 'a', 'b', 'c' and print it."
      ],
      "metadata": {
        "id": "Q18T96O4VRCo"
      }
    },
    {
      "cell_type": "code",
      "source": [
        "my_set = {'a','b','c'}\n",
        "\n",
        "print(\"My set is:\",my_set)"
      ],
      "metadata": {
        "colab": {
          "base_uri": "https://localhost:8080/"
        },
        "id": "19lO1KGyVXgc",
        "outputId": "19ee872e-4874-4cc6-d629-696d0019717e"
      },
      "execution_count": 8,
      "outputs": [
        {
          "output_type": "stream",
          "name": "stdout",
          "text": [
            "My set is: {'a', 'c', 'b'}\n"
          ]
        }
      ]
    },
    {
      "cell_type": "markdown",
      "source": [
        "17.  Write a code to clear all elements from the set {1, 2, 3, 4, 5}."
      ],
      "metadata": {
        "id": "HS_7L_8gV8TD"
      }
    },
    {
      "cell_type": "code",
      "source": [
        "my_set = {1,2,3,4,5}\n",
        "\n",
        "my_set.clear()\n",
        "\n",
        "print(\"The set clearing after all elements:\",my_set)"
      ],
      "metadata": {
        "colab": {
          "base_uri": "https://localhost:8080/"
        },
        "id": "j7eiDrCBWCSV",
        "outputId": "886d927e-a761-412b-a654-0fdc32e293b8"
      },
      "execution_count": 9,
      "outputs": [
        {
          "output_type": "stream",
          "name": "stdout",
          "text": [
            "The set clearing after all elements: set()\n"
          ]
        }
      ]
    },
    {
      "cell_type": "markdown",
      "source": [
        "18.   Write a code to remove the element 4 from the set {1, 2, 3, 4}."
      ],
      "metadata": {
        "id": "0zDZsfqqWqfm"
      }
    },
    {
      "cell_type": "code",
      "source": [
        "my_set = {1,2,3,4}\n",
        "\n",
        "my_set.remove(4)\n",
        "\n",
        "print(\"The set after removing 4.\",my_set)"
      ],
      "metadata": {
        "colab": {
          "base_uri": "https://localhost:8080/"
        },
        "id": "tYghS1xtWvSC",
        "outputId": "ecc0b044-9626-44ed-eb0a-a7eeb4ac98fd"
      },
      "execution_count": 11,
      "outputs": [
        {
          "output_type": "stream",
          "name": "stdout",
          "text": [
            "The set after removing 4. {1, 2, 3}\n"
          ]
        }
      ]
    },
    {
      "cell_type": "markdown",
      "source": [
        "19.   Write a code to find the union of two sets {1, 2, 3} and {3, 4, 5}."
      ],
      "metadata": {
        "id": "m9WgZY1AXY-3"
      }
    },
    {
      "cell_type": "code",
      "source": [
        "set1 = {1,2,3}\n",
        "set2 = {3,4,5}\n",
        "\n",
        "union_set = set1 | set2\n",
        "\n",
        "print(\"The union of sets is. \", union_set)"
      ],
      "metadata": {
        "colab": {
          "base_uri": "https://localhost:8080/"
        },
        "id": "EGpFBTnAXhzm",
        "outputId": "202bc4a8-e5c6-4077-b466-02aa6b1b8284"
      },
      "execution_count": 12,
      "outputs": [
        {
          "output_type": "stream",
          "name": "stdout",
          "text": [
            "The union of sets is.  {1, 2, 3, 4, 5}\n"
          ]
        }
      ]
    },
    {
      "cell_type": "markdown",
      "source": [
        "20.   Write a code to find the intersection of two sets {1, 2, 3} and {2, 3, 4}."
      ],
      "metadata": {
        "id": "Hoh48F7SYOul"
      }
    },
    {
      "cell_type": "code",
      "source": [
        "set1 = {2,2,3}\n",
        "set2 = {2,3,4}\n",
        "\n",
        "intersection_set = set1 & set2\n",
        "\n",
        "print(\"The intersection of the sets is.\",intersection_set)"
      ],
      "metadata": {
        "colab": {
          "base_uri": "https://localhost:8080/"
        },
        "id": "yP6kBCKDYhlA",
        "outputId": "5db0743b-772d-49f8-ce58-747ba37f3182"
      },
      "execution_count": 13,
      "outputs": [
        {
          "output_type": "stream",
          "name": "stdout",
          "text": [
            "The intersection of the sets is. {2, 3}\n"
          ]
        }
      ]
    },
    {
      "cell_type": "markdown",
      "source": [
        "21.   Write a code to create a dictionary with the keys \"name\", \"age\", and \"city\", and print it."
      ],
      "metadata": {
        "id": "aLnvPYEpeBLm"
      }
    },
    {
      "cell_type": "code",
      "source": [
        "person = { \"name\" : \"Vikrant\",\n",
        "            \"age\" : 27,\n",
        "             \"city\" : \"Shimla\"\n",
        "}\n",
        "print(person)"
      ],
      "metadata": {
        "colab": {
          "base_uri": "https://localhost:8080/"
        },
        "id": "QzkXLYAGeGx0",
        "outputId": "e2ca591e-71d7-47a6-8156-b7cb45002856"
      },
      "execution_count": 14,
      "outputs": [
        {
          "output_type": "stream",
          "name": "stdout",
          "text": [
            "{'name': 'Vikrant', 'age': 27, 'city': 'Shimla'}\n"
          ]
        }
      ]
    },
    {
      "cell_type": "markdown",
      "source": [
        "22.   Write a code to add a new key-value pair \"country\": \"USA\" to the dictionary {'name': 'John', 'age': 25}."
      ],
      "metadata": {
        "id": "raAYu03Fft7O"
      }
    },
    {
      "cell_type": "code",
      "source": [
        "person = {'name': 'John', 'age': 25}\n",
        "\n",
        "person['country'] = 'USA'\n",
        "\n",
        "print(person)\n"
      ],
      "metadata": {
        "colab": {
          "base_uri": "https://localhost:8080/"
        },
        "id": "cN7Rh1tVfwgD",
        "outputId": "4ebe54d9-2464-49ee-cab9-423e2da2b7e2"
      },
      "execution_count": 15,
      "outputs": [
        {
          "output_type": "stream",
          "name": "stdout",
          "text": [
            "{'name': 'John', 'age': 25, 'country': 'USA'}\n"
          ]
        }
      ]
    },
    {
      "cell_type": "markdown",
      "source": [
        "23.   Write a code to access the value associated with the key \"name\" in the dictionary {'name': 'Alice', 'age': 30}."
      ],
      "metadata": {
        "id": "68J6tYsIgJkZ"
      }
    },
    {
      "cell_type": "code",
      "source": [
        "person = {'name': 'Alice', 'age': 30}\n",
        "\n",
        "name_value = person['name']\n",
        "\n",
        "print(name_value)\n"
      ],
      "metadata": {
        "colab": {
          "base_uri": "https://localhost:8080/"
        },
        "id": "E69YqvthgMJQ",
        "outputId": "05de92e1-f5a2-4c5c-8fee-c1cd80be52da"
      },
      "execution_count": 16,
      "outputs": [
        {
          "output_type": "stream",
          "name": "stdout",
          "text": [
            "Alice\n"
          ]
        }
      ]
    },
    {
      "cell_type": "markdown",
      "source": [
        "24.  Write a code to remove the key \"age\" from the dictionary {'name': 'Bob', 'age': 22, 'city': 'New York'}."
      ],
      "metadata": {
        "id": "TdbECb2lghEG"
      }
    },
    {
      "cell_type": "code",
      "source": [
        "person = {'name': 'Bob', 'age': 22, 'city': 'New York'}\n",
        "\n",
        "del person['age']\n",
        "\n",
        "print(person)\n"
      ],
      "metadata": {
        "colab": {
          "base_uri": "https://localhost:8080/"
        },
        "id": "LIiGU5QigniZ",
        "outputId": "a547a0d8-2c4f-4a82-a7c6-46db9aef6039"
      },
      "execution_count": 17,
      "outputs": [
        {
          "output_type": "stream",
          "name": "stdout",
          "text": [
            "{'name': 'Bob', 'city': 'New York'}\n"
          ]
        }
      ]
    },
    {
      "cell_type": "markdown",
      "source": [
        "25.   Write a code to check if the key \"city\" exists in the dictionary {'name': 'Alice', 'city': 'Paris'}."
      ],
      "metadata": {
        "id": "Q5tL9hmQg6ge"
      }
    },
    {
      "cell_type": "code",
      "source": [
        "person = {'name': 'Alice', 'city': 'Paris'}\n",
        "\n",
        "if 'city' in person:\n",
        "    print(\"The 'city' exists in the dictionary.\")\n",
        "else:\n",
        "    print(\"The 'city' does not exist in the dictionary.\")\n"
      ],
      "metadata": {
        "colab": {
          "base_uri": "https://localhost:8080/"
        },
        "id": "AgUVxRIqhAUW",
        "outputId": "119901fd-cdbe-4eef-906f-3ea425787d27"
      },
      "execution_count": 19,
      "outputs": [
        {
          "output_type": "stream",
          "name": "stdout",
          "text": [
            "The 'city' exists in the dictionary.\n"
          ]
        }
      ]
    },
    {
      "cell_type": "markdown",
      "source": [
        "26.   Write a code to create a list, a tuple, and a dictionary, and print them all."
      ],
      "metadata": {
        "id": "6rcjlyXBhcon"
      }
    },
    {
      "cell_type": "code",
      "source": [
        "my_list = [1, 2, 3, 4, 5]\n",
        "\n",
        "my_tuple = ('apple', 'banana', 'cherry')\n",
        "\n",
        "my_dict = {'name': 'Vikrant', 'age': 27, 'city': 'Shimla'}\n",
        "\n",
        "print(\"List:\", my_list)\n",
        "print(\"Tuple:\", my_tuple)\n",
        "print(\"Dictionary:\", my_dict)\n"
      ],
      "metadata": {
        "colab": {
          "base_uri": "https://localhost:8080/"
        },
        "id": "Rv55ob5ohi3s",
        "outputId": "8f8ab407-371f-4c9c-f153-35878c1495fe"
      },
      "execution_count": 21,
      "outputs": [
        {
          "output_type": "stream",
          "name": "stdout",
          "text": [
            "List: [1, 2, 3, 4, 5]\n",
            "Tuple: ('apple', 'banana', 'cherry')\n",
            "Dictionary: {'name': 'Vikrant', 'age': 27, 'city': 'Shimla'}\n"
          ]
        }
      ]
    },
    {
      "cell_type": "markdown",
      "source": [
        "27.  Write a code to create a list of 5 random numbers between 1 and 100, sort it in ascending order, and print the result.(replaced)"
      ],
      "metadata": {
        "id": "Vuk1s05uiCe3"
      }
    },
    {
      "cell_type": "code",
      "source": [
        "import random\n",
        "\n",
        "# Generate a list of 5 random numbers between 1 and 100\n",
        "random_numbers = [random.randint(1, 100) for _ in range(5)]\n",
        "\n",
        "# Sort the list in ascending order\n",
        "random_numbers.sort()\n",
        "\n",
        "# Print the sorted list\n",
        "print(\"Sorted random numbers:\", random_numbers)\n"
      ],
      "metadata": {
        "colab": {
          "base_uri": "https://localhost:8080/"
        },
        "id": "BrE8nOnejBUy",
        "outputId": "a8c2c3d9-2df7-44da-fd06-7e9a323fd026"
      },
      "execution_count": 23,
      "outputs": [
        {
          "output_type": "stream",
          "name": "stdout",
          "text": [
            "Sorted random numbers: [10, 49, 63, 73, 85]\n"
          ]
        }
      ]
    },
    {
      "cell_type": "markdown",
      "source": [
        "28.  Write a code to create a list with strings and print the element at the third index."
      ],
      "metadata": {
        "id": "tHqDeuc6jH0Y"
      }
    },
    {
      "cell_type": "code",
      "source": [
        "fruits = [\"apple\", \"banana\", \"cherry\", \"date\", \"elderberry\"]\n",
        "\n",
        "\n",
        "print(\"Element at index 3:\", fruits[3])\n"
      ],
      "metadata": {
        "colab": {
          "base_uri": "https://localhost:8080/"
        },
        "id": "3TZC2vkQjN9A",
        "outputId": "9497ef1a-f80b-4f9f-bdd8-c8755900793d"
      },
      "execution_count": 24,
      "outputs": [
        {
          "output_type": "stream",
          "name": "stdout",
          "text": [
            "Element at index 3: date\n"
          ]
        }
      ]
    },
    {
      "cell_type": "markdown",
      "source": [
        "29.  Write a code to combine two dictionaries into one and print the result."
      ],
      "metadata": {
        "id": "795GUxJ2jslt"
      }
    },
    {
      "cell_type": "code",
      "source": [
        "dict1 = {'name': 'Vikrant', 'age': 27}\n",
        "dict2 = {'city': 'Randal', 'country': 'India'}\n",
        "\n",
        "combined_dict = {**dict1, **dict2}\n",
        "\n",
        "print(\"Combined dictionary:\", combined_dict)\n"
      ],
      "metadata": {
        "colab": {
          "base_uri": "https://localhost:8080/"
        },
        "id": "AvxlbHXwjyrg",
        "outputId": "48dbb102-32be-4005-c397-12c0b9660c81"
      },
      "execution_count": 26,
      "outputs": [
        {
          "output_type": "stream",
          "name": "stdout",
          "text": [
            "Combined dictionary: {'name': 'Vikrant', 'age': 27, 'city': 'Randal', 'country': 'India'}\n"
          ]
        }
      ]
    },
    {
      "cell_type": "markdown",
      "source": [
        "30.  Write a code to convert a list of strings into a set."
      ],
      "metadata": {
        "id": "O6VRwUI-kV3e"
      }
    },
    {
      "cell_type": "code",
      "source": [
        "string_list = [\"apple\", \"banana\", \"cherry\", \"apple\", \"banana\"]\n",
        "\n",
        "string_set = set(string_list)\n",
        "\n",
        "print(\"Set:\", string_set)\n"
      ],
      "metadata": {
        "colab": {
          "base_uri": "https://localhost:8080/"
        },
        "id": "6UzIqKXeka7O",
        "outputId": "2a9e7a24-0866-45fe-d9d6-75a5615c7d94"
      },
      "execution_count": 27,
      "outputs": [
        {
          "output_type": "stream",
          "name": "stdout",
          "text": [
            "Set: {'banana', 'apple', 'cherry'}\n"
          ]
        }
      ]
    }
  ]
}