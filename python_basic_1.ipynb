{
  "nbformat": 4,
  "nbformat_minor": 0,
  "metadata": {
    "colab": {
      "provenance": []
    },
    "kernelspec": {
      "name": "python3",
      "display_name": "Python 3"
    },
    "language_info": {
      "name": "python"
    }
  },
  "cells": [
    {
      "cell_type": "code",
      "execution_count": null,
      "metadata": {
        "id": "s09WGgpjOvFZ"
      },
      "outputs": [],
      "source": []
    },
    {
      "cell_type": "markdown",
      "source": [],
      "metadata": {
        "id": "067tlcx5OxQF"
      }
    },
    {
      "cell_type": "markdown",
      "source": [
        "# python basic\n",
        "1.    What is Python, and why is it popular?\n",
        "\n",
        "\n",
        "     -Python is a high-level, interpreted programming language known for its simplicity, readability, and versatility. It was created by Guido van Rossum and first released in 1991. Python supports multiple programming paradigms, including procedural, object-oriented, and functional programming.\n",
        "\n",
        "\n",
        "-Why Python Is Popular:\n",
        "\n",
        "\n",
        "1.Easy to Learn and Read.\n",
        "\n",
        "2.Large Standard Library.\n",
        "\n",
        "3.Vast Ecosystem of Packages.\n",
        "\n",
        "4.Strong Community Support.\n",
        "\n",
        "5.Cross-Platform Compatibility.\n",
        "\n",
        "\n",
        "6.Used in Many Fields:\n",
        "It's used in web development, automation, data analysis, artificial intelligence, machine learning, scientific computing, cybersecurity, and more.\n",
        "\n",
        "\n",
        "\n",
        "\n",
        "\n"
      ],
      "metadata": {
        "id": "PsWZsp3bO7Yj"
      }
    },
    {
      "cell_type": "markdown",
      "source": [],
      "metadata": {
        "id": "BPVBGnHqULZm"
      }
    },
    {
      "cell_type": "markdown",
      "source": [
        "2.   What is an interpreter in Python?\n",
        "\n",
        "  -In Python, an interpreter is a program that reads and executes Python code line by line. Unlike compiled languages (like C or Java), which are transformed into machine code before running, Python code is executed directly by the interpreter at runtime.\n",
        "\n",
        "  Key Points About the Python Interpreter:\n",
        "\n",
        "\n",
        "1.Reads Line by Line\n",
        "\n",
        "2.Interactive Mode\n",
        "\n",
        "3.Runs .py Files\n",
        " -The interpreter can also run entire scripts saved in .py files\n",
        "\n",
        "4.Examples of Python Interpreters:\n",
        "\n",
        "CPython (the default, written in C)\n",
        "\n",
        "PyPy (a faster version using Just-In-Time compilation)\n"
      ],
      "metadata": {
        "id": "bQuieHriUaNR"
      }
    },
    {
      "cell_type": "markdown",
      "source": [
        "\n"
      ],
      "metadata": {
        "id": "r_CnpVN9T-Ga"
      }
    },
    {
      "cell_type": "markdown",
      "source": [],
      "metadata": {
        "id": "e7VRSbFaUBzc"
      }
    },
    {
      "cell_type": "markdown",
      "source": [
        "3. What are pre-defined keywords in Python ?\n",
        "\n",
        "   -Pre-defined keywords in Python are reserved words that have special meaning in the language. These keywords are part of Python’s syntax and cannot be used as variable names, function names, or identifiers, because they are used to define the structure and rules of Python code. -> -->\n",
        "\n",
        "-Examples of Pre-defined Keywords in Python:\n",
        "\n",
        "-Here are some commonly used ones:\n",
        "\n",
        "-Control Flow: if, else, elif, while, for, break, continue, pass\n",
        "\n",
        "-Boolean and None: True, False, None."
      ],
      "metadata": {
        "id": "w_yOJgbNV_eZ"
      }
    },
    {
      "cell_type": "markdown",
      "source": [
        "4.  Can keywords be used as variable names?\n",
        "\n",
        "    -No, keywords cannot be used as variable names in Python.\n",
        "\n",
        "-These words are reserved by the language for specific purposes (like control flow, defining functions, or logical operations), and using them as variable names would cause a syntax error."
      ],
      "metadata": {
        "id": "FZwb8BpLYghX"
      }
    },
    {
      "cell_type": "markdown",
      "source": [
        "5.   What is mutability in Python?\n",
        "\n",
        "     -Mutability in Python refers to whether an object’s state (its content) can be changed after it’s created.\n",
        "\n",
        "-Types of Objects Based on Mutability:\n",
        "\n",
        "-Mutable Objects:\n",
        "\n",
        "-These can be changed in place without creating a new object.\n",
        "\n",
        "-Common examples:\n",
        "\n",
        "-list\n",
        "\n",
        "-dict (dictionary)\n",
        "\n",
        "-set"
      ],
      "metadata": {
        "id": "ycwSdD2GaMP5"
      }
    },
    {
      "cell_type": "markdown",
      "source": [],
      "metadata": {
        "id": "-f59UB0cbkZj"
      }
    },
    {
      "cell_type": "markdown",
      "source": [
        "6.    Why are lists mutable, but tuples are immutable?\n",
        "\n",
        "      -The difference in mutability between lists and tuples in Python is by design and serves specific purposes in how Python handles data and memory.\n",
        "\n",
        "1\n",
        " Why Lists Are Mutable\n",
        "Purpose: Lists are meant for collections of items that may need to change over time—such as adding, removing, or modifying elements.\n",
        "\n",
        "\n",
        "\n",
        "Example:\n",
        "mt[0] = 99y_list = [1, 2, 3]\n",
        "my_lis\n",
        "print(my_list)  = [99, 2, 3]\n",
        "\n",
        "\n",
        "\n",
        "2. Why Tuples Are Immutable\n",
        "Purpose: Tuples are designed for fixed, unchangeable data—like constants or records.\n",
        "\n",
        "Behavior: Once created, the contents of a tuple cannot be altered.\n",
        "\n",
        "Example:\n",
        "my_tuple = (1, 2, 3)\n",
        "my_tuple[0] = 99  ...\n",
        " This will raise a TypeError"
      ],
      "metadata": {
        "id": "n8BG5aXRbsBv"
      }
    },
    {
      "cell_type": "markdown",
      "source": [],
      "metadata": {
        "id": "GW2vyeY_bd_i"
      }
    },
    {
      "cell_type": "markdown",
      "source": [
        "7.  What is the difference between “==” and “is” operators in Python?\n",
        "\n",
        "\n",
        "    -In Python, \"==\" and \"is\" are both comparison operators, but they check for very different things:\n",
        "\n",
        "-\"==\" (Equality Operator)\n",
        "\n",
        "-Checks if the values are equal.\n",
        "\n",
        "-It compares the contents of two objects.\n",
        "\n",
        "Example:\n",
        "\n",
        "a = [1, 2, 3]\n",
        "b = [1, 2, 3]\n",
        "print(a == b) # True — because contents are equal\n",
        "\n",
        "-\"is\" (Identity Operator)\n",
        "\n",
        "-Checks if two variables point to the exact same object in memory.\n",
        "\n",
        "-Returns True only if both variables refer to the same memory location.\n",
        "\n",
        "-example\n",
        " a = [1, 2, 3]\n",
        "b = [1, 2, 3]\n",
        "print(a is b)   #  False — different objects in memory\n",
        "print(a == b)   #  True  — same contents"
      ],
      "metadata": {
        "id": "sluBtomniV4l"
      }
    },
    {
      "cell_type": "markdown",
      "source": [
        "8.     What are logical operators in Python?\n",
        "        \n",
        "      -Logical operators in Python are used to combine conditional statements or expressions that evaluate to Boolean values (True or False).\n",
        "\n",
        " example:a = 10\n",
        "b = 5\n",
        "\n",
        "# AND\n",
        "print(a > 5 and b < 10)   # True and True → True\n",
        "\n",
        "# OR\n",
        "print(a < 5 or b < 10)    # False or True → True\n",
        "\n",
        "# NOT\n",
        "print(not (a > b))        # not (True) → False\n",
        "\n",
        "\n"
      ],
      "metadata": {
        "id": "-NfyiKPGk8s7"
      }
    },
    {
      "cell_type": "markdown",
      "source": [
        "9.    What is type casting in Python?\n",
        "\n",
        "      -Type casting in Python means converting a value from one data type to another, either manually or automatically.\n",
        "\n",
        "     - Types of Type Casting:\n",
        "1. Explicit Type Casting (Manual)\n",
        "\n",
        "2. Implicit Type Casting (Automatic)"
      ],
      "metadata": {
        "id": "wN_8EKl_nLcL"
      }
    },
    {
      "cell_type": "markdown",
      "source": [
        "10.   What is the difference between implicit and explicit type casting?\n",
        "\n",
        "\n",
        "      -The difference between implicit and explicit type casting in Python lies in who performs the conversion—Python or the programmer—and when it's done.\n",
        "\n",
        " 1. Implicit Type Casting (Automatic)\n",
        "\n",
        "-Done by Python automatically\n",
        "\n",
        "-Happens during operations where mixed data types are used\n",
        "\n",
        "-Safe conversions only (e.g., int to float)\n",
        "\n",
        "2.  Explicit Type Casting (Manual)\n",
        "\n",
        "-Done by the programmer\n",
        "\n",
        "-Uses casting functions like int(), float(), str(), etc."
      ],
      "metadata": {
        "id": "K-_3H9-_oDC2"
      }
    },
    {
      "cell_type": "markdown",
      "source": [],
      "metadata": {
        "id": "kFAd3btrdhhI"
      }
    },
    {
      "cell_type": "markdown",
      "source": [
        "11.   What is the purpose of conditional statements in Python?\n",
        "\n",
        "\n",
        "      -The purpose of conditional statements in Python is to control the flow of a program by making decisions based on whether a condition is True or False.\n",
        "\n",
        "\n",
        "      if >>\tExecutes a block if a condition is true\n",
        "\n",
        "      elif >>\tChecks another condition if the previous if was false\n",
        "\n",
        "      else >>\tRuns a block if none of the previous conditions are true"
      ],
      "metadata": {
        "id": "nBoB4MaepHcX"
      }
    },
    {
      "cell_type": "markdown",
      "source": [
        "12.   How does the elif statement work?\n",
        "\n",
        "\n",
        "      -The **elif** statement in Python stands for \"else if\" and is used to check multiple conditions after an initial if condition.\n",
        "\n",
        "It allows you to handle several different scenarios in a clean and readable way, instead of nesting multiple if statements.\n",
        "\n",
        "example:\n",
        "\n"
      ],
      "metadata": {
        "id": "uBQYkaY-rAIb"
      }
    },
    {
      "cell_type": "code",
      "source": [
        "temperature = 30\n",
        "\n",
        "if temperature > 35:\n",
        "    print(\"It's very hot!\")\n",
        "elif temperature > 25:\n",
        "    print(\"It's warm.\")\n",
        "elif temperature > 15:\n",
        "    print(\"It's mild.\")\n",
        "else:\n",
        "    print(\"It's cold.\")\n",
        "\n",
        "\n"
      ],
      "metadata": {
        "colab": {
          "base_uri": "https://localhost:8080/"
        },
        "id": "lfeN5irVr8fx",
        "outputId": "64301cc5-103b-4867-8da2-e55d546f066b"
      },
      "execution_count": null,
      "outputs": [
        {
          "output_type": "stream",
          "name": "stdout",
          "text": [
            "It's warm.\n"
          ]
        }
      ]
    },
    {
      "cell_type": "markdown",
      "source": [
        "13.   What is the difference between for and while loops?\n",
        "\n",
        "\n",
        "      -The main difference between for and while loops in Python lies in how and when they repeat code.\n",
        "\n",
        "-for Loop – Used for Iterating Over a Sequence\n",
        "\n",
        "-Repeats a block a specific number of times or over items in a collection (like a list, string, or range)."
      ],
      "metadata": {
        "id": "tlef7XH5strE"
      }
    },
    {
      "cell_type": "code",
      "source": [
        "#example\n",
        "for i in range(5):\n",
        "    print(i)\n"
      ],
      "metadata": {
        "colab": {
          "base_uri": "https://localhost:8080/"
        },
        "id": "KiR5nHZmtdwW",
        "outputId": "6f0b57b4-8eab-49b3-c882-d01ddb2bc570"
      },
      "execution_count": null,
      "outputs": [
        {
          "output_type": "stream",
          "name": "stdout",
          "text": [
            "0\n",
            "1\n",
            "2\n",
            "3\n",
            "4\n"
          ]
        }
      ]
    },
    {
      "cell_type": "markdown",
      "source": [
        "-while Loop – Used for Repeating While a Condition is True\n",
        "\n",
        "-Repeats a block of code as long as a condition is True.\n",
        "\n",
        "-Useful when you don’t know ahead of time how many times to loop."
      ],
      "metadata": {
        "id": "__RQPOU3tqn1"
      }
    },
    {
      "cell_type": "code",
      "source": [
        "i = 0\n",
        "while i < 5:\n",
        "    print(i)\n",
        "    i += 1\n"
      ],
      "metadata": {
        "colab": {
          "base_uri": "https://localhost:8080/"
        },
        "id": "PkbmE1VauEgp",
        "outputId": "5121ab95-263b-431c-aa94-6c584b44f174"
      },
      "execution_count": null,
      "outputs": [
        {
          "output_type": "stream",
          "name": "stdout",
          "text": [
            "0\n",
            "1\n",
            "2\n",
            "3\n",
            "4\n"
          ]
        }
      ]
    },
    {
      "cell_type": "markdown",
      "source": [
        "14.   Describe a scenario where a while loop is more suitable than a for loop?\n",
        "\n",
        "\n",
        "      -A while loop is more suitable than a for loop when you don’t know in advance how many times you need to repeat an action—you're waiting for a condition to become False.\n",
        "\n",
        "- Example Scenario: User Input Validation"
      ],
      "metadata": {
        "id": "ZUSPa7eeuO8I"
      }
    },
    {
      "cell_type": "code",
      "source": [
        "correct_password = \"pwskills123\"\n",
        "user_input = \"\"\n",
        "\n",
        "while user_input != correct_password:\n",
        "    user_input = input(\"Enter the password: \")\n",
        "\n",
        "print(\"Access granted!\")\n"
      ],
      "metadata": {
        "id": "gPiOwz8Fu_Zd"
      },
      "execution_count": null,
      "outputs": []
    },
    {
      "cell_type": "markdown",
      "source": [],
      "metadata": {
        "id": "rHWyq_W9q4bf"
      }
    },
    {
      "cell_type": "markdown",
      "source": [
        "Why while is better here:\n",
        "\n",
        "-You don’t know how many attempts the user will need.\n",
        "\n",
        "-The loop continues until the correct password is entered."
      ],
      "metadata": {
        "id": "MWQVG2hsvlQv"
      }
    },
    {
      "cell_type": "markdown",
      "source": [
        "# **Practical Questions**"
      ],
      "metadata": {
        "id": "V0NnKJY62lJm"
      }
    },
    {
      "cell_type": "markdown",
      "source": [],
      "metadata": {
        "id": "3Kno-p0hrtxS"
      }
    },
    {
      "cell_type": "code",
      "source": [
        "# 1. Write a Python program to print \"Hello, World!\n"
      ],
      "metadata": {
        "id": "nKgmWzSr2zkF"
      },
      "execution_count": null,
      "outputs": []
    },
    {
      "cell_type": "code",
      "source": [
        "print(\"Hello, World!\")\n"
      ],
      "metadata": {
        "colab": {
          "base_uri": "https://localhost:8080/"
        },
        "id": "Iue3ztMh3LjN",
        "outputId": "df7c9876-c631-4f9b-8493-f48ce5eab689"
      },
      "execution_count": null,
      "outputs": [
        {
          "output_type": "stream",
          "name": "stdout",
          "text": [
            "Hello, World!\n"
          ]
        }
      ]
    },
    {
      "cell_type": "code",
      "source": [
        "#  2. Write a Python program that displays your name and age."
      ],
      "metadata": {
        "id": "NoDTNUQd3RJM"
      },
      "execution_count": null,
      "outputs": []
    },
    {
      "cell_type": "code",
      "source": [
        "\n",
        "name = \"vikrant\"\n",
        "age = 26\n",
        "\n",
        "print(\"Name:\", name)\n",
        "print(\"Age:\", age)\n"
      ],
      "metadata": {
        "colab": {
          "base_uri": "https://localhost:8080/"
        },
        "id": "wbJBro8v3qUC",
        "outputId": "65d823f7-6cb2-452b-c752-cddc59ad0423"
      },
      "execution_count": null,
      "outputs": [
        {
          "output_type": "stream",
          "name": "stdout",
          "text": [
            "Name: vikrant\n",
            "Age: 26\n"
          ]
        }
      ]
    },
    {
      "cell_type": "code",
      "source": [
        "#  3.  Write code to print all the pre-defined keywords in Python using the keyword library."
      ],
      "metadata": {
        "id": "sJOfILG94HVF"
      },
      "execution_count": null,
      "outputs": []
    },
    {
      "cell_type": "code",
      "source": [
        "import keyword\n",
        "\n",
        "\n",
        "keywords = keyword.kwlist\n",
        "\n",
        "\n",
        "print(\"Python Keywords:\")\n",
        "for kw in keywords:\n",
        "    print(kw)\n",
        "\n"
      ],
      "metadata": {
        "colab": {
          "base_uri": "https://localhost:8080/"
        },
        "id": "Q1odCgfI4x3n",
        "outputId": "ed6eda0d-dab9-4625-894e-43c4edbc47a3"
      },
      "execution_count": null,
      "outputs": [
        {
          "output_type": "stream",
          "name": "stdout",
          "text": [
            "Python Keywords:\n",
            "False\n",
            "None\n",
            "True\n",
            "and\n",
            "as\n",
            "assert\n",
            "async\n",
            "await\n",
            "break\n",
            "class\n",
            "continue\n",
            "def\n",
            "del\n",
            "elif\n",
            "else\n",
            "except\n",
            "finally\n",
            "for\n",
            "from\n",
            "global\n",
            "if\n",
            "import\n",
            "in\n",
            "is\n",
            "lambda\n",
            "nonlocal\n",
            "not\n",
            "or\n",
            "pass\n",
            "raise\n",
            "return\n",
            "try\n",
            "while\n",
            "with\n",
            "yield\n"
          ]
        }
      ]
    },
    {
      "cell_type": "code",
      "source": [
        "#   4. Write a program that checks if a given word is a Python keyword."
      ],
      "metadata": {
        "id": "0m2t0BPE5aRz"
      },
      "execution_count": null,
      "outputs": []
    },
    {
      "cell_type": "code",
      "source": [
        "import keyword\n",
        "\n",
        "\n",
        "word = input(\"Enter a word: \")\n",
        "\n",
        "\n",
        "if keyword.iskeyword(word):\n",
        "    print(f\"'{word}' is a Python keyword.\")\n",
        "else:\n",
        "    print(f\"'{word}' is NOT a Python keyword.\")\n"
      ],
      "metadata": {
        "colab": {
          "base_uri": "https://localhost:8080/"
        },
        "id": "G5bqaoWo6bIp",
        "outputId": "1c5e7018-b313-46df-ba0d-e20f245de382"
      },
      "execution_count": null,
      "outputs": [
        {
          "output_type": "stream",
          "name": "stdout",
          "text": [
            "Enter a word: for\n",
            "'for' is a Python keyword.\n"
          ]
        }
      ]
    },
    {
      "cell_type": "code",
      "source": [
        "#  5. Create a list and tuple in Python, and demonstrate how attempting to change an element works differently for each."
      ],
      "metadata": {
        "id": "2YVaMYMv66U6"
      },
      "execution_count": null,
      "outputs": []
    },
    {
      "cell_type": "code",
      "source": [
        "\n",
        "my_list = [1, 2, 3]\n",
        "my_tuple = (1, 2, 3)\n",
        "\n",
        "\n",
        "print(\"Original list:\", my_list)\n",
        "my_list[0] = 10\n",
        "print(\"Modified list:\", my_list)\n",
        "\n",
        "\n",
        "print(\"Original tuple:\", my_tuple)\n",
        "try:\n",
        "    my_tuple[0] = 10\n",
        "except TypeError as e:\n",
        "    print(\"Error when modifying tuple:\", e)\n"
      ],
      "metadata": {
        "colab": {
          "base_uri": "https://localhost:8080/"
        },
        "id": "m-Gyk2Py7KTa",
        "outputId": "79c32af8-6234-473d-9203-97aac8b08bfe"
      },
      "execution_count": null,
      "outputs": [
        {
          "output_type": "stream",
          "name": "stdout",
          "text": [
            "Original list: [1, 2, 3]\n",
            "Modified list: [10, 2, 3]\n",
            "Original tuple: (1, 2, 3)\n",
            "Error when modifying tuple: 'tuple' object does not support item assignment\n"
          ]
        }
      ]
    },
    {
      "cell_type": "code",
      "source": [
        "#  6. Write a function to demonstrate the behavior of mutable and immutable arguments."
      ],
      "metadata": {
        "id": "sZD3YN4775Lq"
      },
      "execution_count": null,
      "outputs": []
    },
    {
      "cell_type": "code",
      "source": [
        "def modify_immutable(x):\n",
        "    print(\"Inside function before change:\", x)\n",
        "    x = x + 10\n",
        "    print(\"Inside function after change:\", x)\n",
        "\n",
        "def modify_mutable(lst):\n",
        "    print(\"Inside function before change:\", lst)\n",
        "    lst.append(100)\n",
        "    print(\"Inside function after change:\", lst)\n",
        "\n",
        "\n",
        "a = 5\n",
        "print(\"Before function call (immutable):\", a)\n",
        "modify_immutable(a)\n",
        "print(\"After function call (immutable):\", a)\n",
        "print(\"-\" * 40)\n",
        "\n",
        "\n",
        "b = [1, 2, 3]\n",
        "print(\"Before function call (mutable):\", b)\n",
        "modify_mutable(b)\n",
        "print(\"After function call (mutable):\", b)\n"
      ],
      "metadata": {
        "colab": {
          "base_uri": "https://localhost:8080/"
        },
        "id": "gV07wkWM8F25",
        "outputId": "306b4331-71f5-4f43-c1f6-2d834f584bc0"
      },
      "execution_count": null,
      "outputs": [
        {
          "output_type": "stream",
          "name": "stdout",
          "text": [
            "Before function call (immutable): 5\n",
            "Inside function before change: 5\n",
            "Inside function after change: 15\n",
            "After function call (immutable): 5\n",
            "----------------------------------------\n",
            "Before function call (mutable): [1, 2, 3]\n",
            "Inside function before change: [1, 2, 3]\n",
            "Inside function after change: [1, 2, 3, 100]\n",
            "After function call (mutable): [1, 2, 3, 100]\n"
          ]
        }
      ]
    },
    {
      "cell_type": "code",
      "source": [
        "#  7. Write a program that performs basic arithmetic operations on two user-input numbers."
      ],
      "metadata": {
        "id": "6yOWUKve80yh"
      },
      "execution_count": null,
      "outputs": []
    },
    {
      "cell_type": "code",
      "source": [
        "\n",
        "num1 = float(input(\"Enter the first number: \"))\n",
        "num2 = float(input(\"Enter the second number: \"))\n",
        "\n",
        "\n",
        "addition = num1 + num2\n",
        "subtraction = num1 - num2\n",
        "multiplication = num1 * num2\n",
        "\n",
        "\n",
        "if num2 != 0:\n",
        "    division = num1 / num2\n",
        "else:\n",
        "    division = \"Undefined (cannot divide by zero)\"\n",
        "\n",
        "\n",
        "print(\"\\nResults:\")\n",
        "print(f\"{num1} + {num2} = {addition}\")\n",
        "print(f\"{num1} - {num2} = {subtraction}\")\n",
        "print(f\"{num1} * {num2} = {multiplication}\")\n",
        "print(f\"{num1} / {num2} = {division}\")\n"
      ],
      "metadata": {
        "colab": {
          "base_uri": "https://localhost:8080/"
        },
        "id": "NiSNhTIi-NCM",
        "outputId": "7b2546a5-39e9-46a3-b494-30f24cb7d206"
      },
      "execution_count": null,
      "outputs": [
        {
          "output_type": "stream",
          "name": "stdout",
          "text": [
            "Enter the first number: 5\n",
            "Enter the second number: 2\n",
            "\n",
            "Results:\n",
            "5.0 + 2.0 = 7.0\n",
            "5.0 - 2.0 = 3.0\n",
            "5.0 * 2.0 = 10.0\n",
            "5.0 / 2.0 = 2.5\n"
          ]
        }
      ]
    },
    {
      "cell_type": "code",
      "source": [
        "#  8. Write a program to demonstrate the use of logical operators."
      ],
      "metadata": {
        "id": "c8WJeoxv-m0U"
      },
      "execution_count": null,
      "outputs": []
    },
    {
      "cell_type": "code",
      "source": [
        "\n",
        "a = int(input(\"Enter the first number: \"))\n",
        "b = int(input(\"Enter the second number: \"))\n",
        "\n",
        "print(\"\\nLogical Operator Examples:\")\n",
        "\n",
        "# AND operator\n",
        "if a > 0 and b > 0:\n",
        "    print(\"Both numbers are positive (a > 0 AND b > 0)\")\n",
        "\n",
        "# OR operator\n",
        "if a > 0 or b > 0:\n",
        "    print(\"At least one number is positive (a > 0 OR b > 0)\")\n",
        "\n",
        "# NOT operator\n",
        "if not (a < 0 and b < 0):\n",
        "    print(\"Not both numbers are negative (NOT both a < 0 AND b < 0)\")\n"
      ],
      "metadata": {
        "colab": {
          "base_uri": "https://localhost:8080/"
        },
        "id": "P0ehs-nI-umx",
        "outputId": "f8994683-5764-4a1d-c0f2-d69580149ee6"
      },
      "execution_count": null,
      "outputs": [
        {
          "output_type": "stream",
          "name": "stdout",
          "text": [
            "Enter the first number: 7\n",
            "Enter the second number: 3\n",
            "\n",
            "Logical Operator Examples:\n",
            "Both numbers are positive (a > 0 AND b > 0)\n",
            "At least one number is positive (a > 0 OR b > 0)\n",
            "Not both numbers are negative (NOT both a < 0 AND b < 0)\n"
          ]
        }
      ]
    },
    {
      "cell_type": "code",
      "source": [
        "#  9. Write a Python program to convert user input from string to integer, float, and boolean types."
      ],
      "metadata": {
        "id": "PjG4S0Le_UY9"
      },
      "execution_count": null,
      "outputs": []
    },
    {
      "cell_type": "code",
      "source": [
        "\n",
        "user_input = input(\"Enter a value: \")\n",
        "\n",
        "\n",
        "try:\n",
        "    int_value = int(user_input)\n",
        "    print(\"As integer:\", int_value)\n",
        "except ValueError:\n",
        "    print(\"Cannot convert to integer.\")\n",
        "\n",
        "\n",
        "try:\n",
        "    float_value = float(user_input)\n",
        "    print(\"As float:\", float_value)\n",
        "except ValueError:\n",
        "    print(\"Cannot convert to float.\")\n",
        "\n",
        "# Convert to boolean\n",
        "# Any non-empty string except \"0\" and \"False\" is usually considered True\n",
        "bool_value = bool(user_input) and user_input.lower() not in (\"false\", \"0\", \"none\", \"\")\n",
        "print(\"As boolean:\", bool_value)\n"
      ],
      "metadata": {
        "colab": {
          "base_uri": "https://localhost:8080/"
        },
        "id": "EYgTTGXG_mAc",
        "outputId": "b8bc2f45-520c-4a37-c80f-dbdf7edc2210"
      },
      "execution_count": null,
      "outputs": [
        {
          "output_type": "stream",
          "name": "stdout",
          "text": [
            "Enter a value: 3\n",
            "As integer: 3\n",
            "As float: 3.0\n",
            "As boolean: True\n"
          ]
        }
      ]
    },
    {
      "cell_type": "code",
      "source": [
        "#  10. Write code to demonstrate type casting with list elements."
      ],
      "metadata": {
        "id": "pKfkumDQZJ6E"
      },
      "execution_count": null,
      "outputs": []
    },
    {
      "cell_type": "code",
      "source": [
        "\n",
        "str_numbers = [\"10\", \"20\", \"30\", \"40\"]\n",
        "\n",
        "\n",
        "int_numbers = []\n",
        "for num in str_numbers:\n",
        "    int_numbers.append(int(num))\n",
        "\n",
        "print(\"Original list (strings):\", str_numbers)\n",
        "print(\"Converted list (integers):\", int_numbers)\n"
      ],
      "metadata": {
        "colab": {
          "base_uri": "https://localhost:8080/"
        },
        "id": "3UZMTjvZZfOG",
        "outputId": "dee0e218-11e3-43bd-c406-e443ce869fb7"
      },
      "execution_count": 1,
      "outputs": [
        {
          "output_type": "stream",
          "name": "stdout",
          "text": [
            "Original list (strings): ['10', '20', '30', '40']\n",
            "Converted list (integers): [10, 20, 30, 40]\n"
          ]
        }
      ]
    },
    {
      "cell_type": "code",
      "source": [
        "#  11. Write a program that checks if a number is positive, negative, or zero."
      ],
      "metadata": {
        "id": "w3cG7UgeZ5B6"
      },
      "execution_count": null,
      "outputs": []
    },
    {
      "cell_type": "code",
      "source": [
        "num = float(input(\"Enter a number: \"))\n",
        "\n",
        "if num > 0:\n",
        "    print(\"The number is positive.\")\n",
        "elif num < 0:\n",
        "    print(\"The number is negative.\")\n",
        "else:\n",
        "    print(\"The number is zero.\")\n"
      ],
      "metadata": {
        "colab": {
          "base_uri": "https://localhost:8080/"
        },
        "id": "1WL9AHD3aCRW",
        "outputId": "ca0d2410-cde4-4547-d7a8-dff60027dc26"
      },
      "execution_count": 2,
      "outputs": [
        {
          "output_type": "stream",
          "name": "stdout",
          "text": [
            "Enter a number: 0\n",
            "The number is zero.\n"
          ]
        }
      ]
    },
    {
      "cell_type": "code",
      "source": [
        "#   12. Write a for loop to print numbers from 1 to 10."
      ],
      "metadata": {
        "id": "2_TeQIRAaQ11"
      },
      "execution_count": null,
      "outputs": []
    },
    {
      "cell_type": "code",
      "source": [
        "for i in range(1, 11):\n",
        "    print(i)\n"
      ],
      "metadata": {
        "colab": {
          "base_uri": "https://localhost:8080/"
        },
        "id": "3cE6ZsVpauo3",
        "outputId": "d4b356f4-8ef0-4b93-9669-d523b05f415f"
      },
      "execution_count": 3,
      "outputs": [
        {
          "output_type": "stream",
          "name": "stdout",
          "text": [
            "1\n",
            "2\n",
            "3\n",
            "4\n",
            "5\n",
            "6\n",
            "7\n",
            "8\n",
            "9\n",
            "10\n"
          ]
        }
      ]
    },
    {
      "cell_type": "code",
      "source": [
        "#   13. Write a Python program to find the sum of all even numbers between 1 and 50."
      ],
      "metadata": {
        "id": "ARcBtGw3a695"
      },
      "execution_count": null,
      "outputs": []
    },
    {
      "cell_type": "code",
      "source": [
        "even_sum = 0\n",
        "\n",
        "# Loop through numbers from 1 to 50\n",
        "for num in range(1, 51):\n",
        "    if num % 2 == 0:  # Check if the number is even\n",
        "        even_sum += num\n",
        "\n",
        "print(\"Sum of even numbers from 1 to 50 is:\", even_sum)\n"
      ],
      "metadata": {
        "colab": {
          "base_uri": "https://localhost:8080/"
        },
        "id": "pnP0fmsdbI9k",
        "outputId": "e06cd254-1f95-4772-bb6c-726ddf7918dc"
      },
      "execution_count": 4,
      "outputs": [
        {
          "output_type": "stream",
          "name": "stdout",
          "text": [
            "Sum of even numbers from 1 to 50 is: 650\n"
          ]
        }
      ]
    },
    {
      "cell_type": "code",
      "source": [
        "#  14. Write a program to reverse a string using a while loop."
      ],
      "metadata": {
        "id": "3PIixEJHbd_8"
      },
      "execution_count": null,
      "outputs": []
    },
    {
      "cell_type": "code",
      "source": [
        "text = input(\"Enter a string: \")\n",
        "\n",
        "reversed_text = \"\"\n",
        "index = len(text) - 1\n",
        "\n",
        "while index >= 0:\n",
        "    reversed_text += text[index]\n",
        "    index -= 1\n",
        "\n",
        "print(\"Reversed string:\", reversed_text)\n"
      ],
      "metadata": {
        "colab": {
          "base_uri": "https://localhost:8080/"
        },
        "id": "RXAySdvfbl-U",
        "outputId": "f6106e9f-ffb9-4320-80e4-99c459678931"
      },
      "execution_count": 6,
      "outputs": [
        {
          "output_type": "stream",
          "name": "stdout",
          "text": [
            "Enter a string: Hello\n",
            "Reversed string: olleH\n"
          ]
        }
      ]
    },
    {
      "cell_type": "code",
      "source": [
        "#  15. Write a Python program to calculate the factorial of a number provided by the user using a while loop."
      ],
      "metadata": {
        "id": "eH9eXENnb-3L"
      },
      "execution_count": null,
      "outputs": []
    },
    {
      "cell_type": "code",
      "source": [
        "num = int(input(\"Enter a non-negative integer: \"))\n",
        "\n",
        "if num < 0:\n",
        "    print(\"Factorial is not defined for negative numbers.\")\n",
        "else:\n",
        "    factorial = 1\n",
        "    i = 1\n",
        "\n",
        "\n",
        "    while i <= num:\n",
        "        factorial *= i\n",
        "        i += 1\n",
        "\n",
        "\n",
        "    print(f\"The factorial of {num} is {factorial}.\")\n"
      ],
      "metadata": {
        "colab": {
          "base_uri": "https://localhost:8080/"
        },
        "id": "loWFofMQcGmo",
        "outputId": "4050b800-119d-4f6e-e36b-dbcff610d7c9"
      },
      "execution_count": 7,
      "outputs": [
        {
          "output_type": "stream",
          "name": "stdout",
          "text": [
            "Enter a non-negative integer: 5\n",
            "The factorial of 5 is 120.\n"
          ]
        }
      ]
    }
  ]
}